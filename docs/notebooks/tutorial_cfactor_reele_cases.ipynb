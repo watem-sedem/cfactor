{
 "cells": [
  {
   "cell_type": "code",
   "execution_count": null,
   "metadata": {},
   "outputs": [],
   "source": [
    "# This block enables local development of the scripts in the `src` folder while using the functions directly in this notebook without restart\n",
    "%load_ext autoreload\n",
    "%autoreload 2"
   ]
  },
  {
   "cell_type": "markdown",
   "metadata": {},
   "source": [
    "# Modules"
   ]
  },
  {
   "cell_type": "markdown",
   "metadata": {},
   "source": [
    "## Python"
   ]
  },
  {
   "cell_type": "code",
   "execution_count": null,
   "metadata": {},
   "outputs": [],
   "source": [
    "import sys\n",
    "import os\n",
    "from pathlib import Path\n",
    "import numpy as np\n",
    "import pandas as pd\n",
    "import geopandas as gpd\n",
    "import pdb\n",
    "import matplotlib.pyplot as plt\n",
    "import seaborn as sns"
   ]
  },
  {
   "cell_type": "markdown",
   "metadata": {},
   "source": [
    "## Package"
   ]
  },
  {
   "cell_type": "code",
   "execution_count": null,
   "metadata": {},
   "outputs": [],
   "source": [
    "sys.path.append(r\"C:\\Users\\SachaGobeyn\\GitHub\\CNWS-processing-scripts\\cnws\\src\\cfactor\")\n",
    "from cfactor import cfactor,init\n",
    "from general import initialize_files,prepare_parcel_input"
   ]
  },
  {
   "cell_type": "markdown",
   "metadata": {},
   "source": [
    "# Trailrun Maarkebeek"
   ]
  },
  {
   "cell_type": "markdown",
   "metadata": {},
   "source": [
    "## Gewasgegevens"
   ]
  },
  {
   "cell_type": "code",
   "execution_count": null,
   "metadata": {},
   "outputs": [],
   "source": [
    "#path_inputdata = r\"C:\\Users\\SachaGobeyn\\Dropbox (Fluves)\\ALBON\\C-factor\\2. ANALYSES\\-testtutorial\\inputdata\"\n",
    "path_sources = os.path.join(\"..\",\"..\",\"src\",\"cfactor\",\"data\",\"raw\")\n",
    "path_tempdata = os.path.join(\"..\",\"..\",\"src\",\"cfactor\",\"temp\")\n",
    "path_resmap  = os.path.join(r\"C:\\Users\\SachaGobeyn\\Dropbox (Fluves)\\ALBON\\C-factor\\2. ANALYSES\\analyse_Vlaanderen\\Maarkedal\")\n",
    "\n",
    "paths_teeltdata= initialize_files(path_sources)"
   ]
  },
  {
   "cell_type": "markdown",
   "metadata": {},
   "source": [
    "## Percelenkaart"
   ]
  },
  {
   "cell_type": "code",
   "execution_count": null,
   "metadata": {},
   "outputs": [],
   "source": [
    "in_Shp = {}\n",
    "in_Shp[\"2015\"] = Path(r\"C:\\Users\\SachaGobeyn\\Dropbox (Fluves)\\ALBON\\DATA\\GIS-data\\thematic\\Landbouwgebruikspercelen\\LandbouwVisserij\\Landbouwgebruikspercelen_2015_(toestand_10-08-2016)_la72.shp\")\n",
    "in_Shp[\"2016\"] = Path(r\"C:\\Users\\SachaGobeyn\\Dropbox (Fluves)\\ALBON\\DATA\\GIS-data\\thematic\\Landbouwgebruikspercelen\\LandbouwVisserij\\Landbouwgebruikspercelen_2016_(toestand_16-01-2017)_la72.shp\")\n",
    "clip_Shp = Path(r\"C:\\Users\\SachaGobeyn\\Dropbox (Fluves)\\ALBON\\C-factor\\2. ANALYSES\\analyse_Vlaanderen\\Maarkedal\\catchment_shape\\Maarkebeek.shp\")\n",
    "\n",
    "parcel_list = prepare_parcel_input(in_Shp,clip_Shp,path_tempdata)"
   ]
  },
  {
   "cell_type": "markdown",
   "metadata": {},
   "source": [
    "## Run cfactor model for Maarkebeek"
   ]
  },
  {
   "cell_type": "code",
   "execution_count": null,
   "metadata": {},
   "outputs": [],
   "source": [
    "parcel, crop_prop, ggg, grid = init(parcel_list,paths_teeltdata,2016)\n",
    "out = cfactor(parcel, grid, ggg, crop_prop, 2016,\n",
    "                                        output_map=os.path.join(path_resmap),ffull_output=True, \n",
    "                                        multiprocessing=True)"
   ]
  },
  {
   "cell_type": "markdown",
   "metadata": {},
   "source": [
    "# Volledig Vlaanderen"
   ]
  },
  {
   "cell_type": "code",
   "execution_count": null,
   "metadata": {},
   "outputs": [],
   "source": [
    "catchments = [\"Demerbekken\"]\n",
    "             #   [\"Bekken_Brugse_polders\",\"Bekken_Gentse_kanalen\",\"Beneden-Scheldebekken\",\n",
    "             # \"Boven-scheldebekken\",\"Demerbekken\",\"Dijlebekken\",\"Ijzerbekken\",\"Leiebekken\",\n",
    "             # \"Maasbekken_N\",\"Maasbekken_E\",\"Netebekken\",\"Voeren\"]\n",
    "catchMap =  r\"C:\\Users\\SachaGobeyn\\Dropbox (Fluves)\\ALBON\\Modelberekeningen\\v8\\Vlaanderen_Bekkens\\catchments\"\n",
    "resMap = r\"C:/Users/SachaGobeyn/Dropbox (Fluves)/ALBON/C-factor/2. ANALYSES/analyse_Vlaanderen/\""
   ]
  },
  {
   "cell_type": "markdown",
   "metadata": {},
   "source": [
    "## Prepare parcels"
   ]
  },
  {
   "cell_type": "code",
   "execution_count": null,
   "metadata": {},
   "outputs": [],
   "source": [
    "in_Shp = {}\n",
    "in_Shp[\"2015\"] = Path(r\"C:\\Users\\SachaGobeyn\\Dropbox (Fluves)\\ALBON\\DATA\\GIS-data\\thematic\\Landbouwgebruikspercelen\\LandbouwVisserij\\Landbouwgebruikspercelen_2015_(toestand_10-08-2016)_la72.shp\")\n",
    "in_Shp[\"2016\"] = Path(r\"C:\\Users\\SachaGobeyn\\Dropbox (Fluves)\\ALBON\\DATA\\GIS-data\\thematic\\Landbouwgebruikspercelen\\LandbouwVisserij\\Landbouwgebruikspercelen_2016_(toestand_16-01-2017)_la72.shp\")\n",
    "\n",
    "for i in catchments:\n",
    "    print(i)\n",
    "    clip_Shp = Path(os.path.join(catchMap,\"%s.shp\"%i))\n",
    "    parcel_list = prepare_parcel_input(in_Shp,clip_Shp,path_tempdata)\n",
    "    parcel_list = pd.read_csv(os.path.join(resMap,\"parcel_list_%s.csv\"%i))\n",
    "    parcel, crop_prop, ggg, grid = init(parcel_list,paths_teeltdata,2016)\n",
    "    parcel.to_csv(os.path.join(resMap,\"parcel_list_%s.shp\"%i))\n",
    "    #parcel, crop_prop, ggg, grid = init(parcel_list,paths_teeltdata,2016)\n",
    "    #out = cfactor(parcel, grid, ggg, crop_prop, 2016,\n",
    "    #                                        output_map=os.path.join(path_resmap),ffull_output=True, \n",
    "    #                                        multiprocessing=True)"
   ]
  },
  {
   "cell_type": "markdown",
   "metadata": {},
   "source": [
    "## Run cfactor"
   ]
  },
  {
   "cell_type": "code",
   "execution_count": null,
   "metadata": {},
   "outputs": [],
   "source": [
    "for i in catchments:\n",
    "    parcel =  pd.read_csv(os.path.join(resMap,\"parcel_list_%s.shp\"%i))\n",
    "    out = cfactor(parcel, grid, ggg, crop_prop, 2016,\n",
    "                                            output_map=os.path.join(path_resmap),ffull_output=False, \n",
    "                                            multiprocessing=True)\n",
    "    out.to_csv(os.path.join(resMap,\"cfactor_%s.csv\"%i))"
   ]
  },
  {
   "cell_type": "markdown",
   "metadata": {},
   "source": [
    "## Analyse"
   ]
  },
  {
   "cell_type": "markdown",
   "metadata": {},
   "source": [
    "### load"
   ]
  },
  {
   "cell_type": "code",
   "execution_count": null,
   "metadata": {},
   "outputs": [],
   "source": [
    "cfactor = []\n",
    "parcellists = []\n",
    "\n",
    "catchments_ = [\"Demerbekken\"]\n",
    "for i in catchments_:\n",
    "    parcel_list = pd.read_csv(os.path.join(resMap,\"parcel_list_%s.csv\"%i))\n",
    "    parcel_list[\"catchm\"] = i\n",
    "    parcellists.append(parcel_list)\n",
    "    parcel_list = parcel_list[parcel_list[\"jaar\"]==2016]\n",
    "    gewas = parcel_list[[\"perceel_id\",\"GWSCOD\",\"catchm\"]][parcel_list[\"type\"]==2]\n",
    "    parcel_list = parcel_list.groupby([\"perceel_id\",\"REF_ID\",\"catchm\"]).aggregate({\"type\":np.sum}).reset_index()\n",
    "    parcel_list = parcel_list[parcel_list[\"type\"]<7]\n",
    "    temp = pd.read_csv(os.path.join(resMap,\"cfactor_%s.csv\"%i))\n",
    "    temp = temp.merge(parcel_list,on=\"perceel_id\",how=\"left\").merge(gewas,on=\"perceel_id\",how=\"left\")\n",
    "    c.append(temp)\n",
    "    \n",
    "parcellists = pd.concat(parcellists)\n",
    "c = pd.concat(c)\n",
    "\n",
    "types = {2:\"H\",3:\"V+H\",5:\"H+N\",6:\"V+H+N\"}\n",
    "\n",
    "c = c.replace(types)"
   ]
  },
  {
   "cell_type": "markdown",
   "metadata": {},
   "source": [
    "### boxplot"
   ]
  },
  {
   "cell_type": "code",
   "execution_count": null,
   "metadata": {},
   "outputs": [],
   "source": [
    "for i in gewas[\"GWSCOD\"].unique()[0:10]:\n",
    "    fig,ax = plt.subplots()\n",
    "    ax =  sns.boxplot(x=\"GWSCOD\", y=\"C\", data=c[c[\"GWSCOD\"]==i],hue=\"type\")"
   ]
  },
  {
   "cell_type": "code",
   "execution_count": null,
   "metadata": {},
   "outputs": [],
   "source": [
    "plt.hist(cfactor[\"type\"])"
   ]
  },
  {
   "cell_type": "code",
   "execution_count": null,
   "metadata": {},
   "outputs": [],
   "source": [
    "parcellists[parcellists[\"perceel_id\"]==74865]"
   ]
  },
  {
   "cell_type": "code",
   "execution_count": null,
   "metadata": {},
   "outputs": [],
   "source": [
    "temp = gpd.read_file(r\"C:\\Users\\SachaGobeyn\\Dropbox (Fluves)\\ALBON\\DATA\\GIS-data\\thematic\\Landbouwgebruikspercelen\\LandbouwVisserij\\Landbouwgebruikspercelen_2016_(toestand_16-01-2017)_la72.shp\")"
   ]
  },
  {
   "cell_type": "code",
   "execution_count": null,
   "metadata": {},
   "outputs": [],
   "source": []
  },
  {
   "cell_type": "code",
   "execution_count": null,
   "metadata": {},
   "outputs": [],
   "source": []
  },
  {
   "cell_type": "code",
   "execution_count": null,
   "metadata": {},
   "outputs": [],
   "source": [
    "cfactor"
   ]
  },
  {
   "cell_type": "code",
   "execution_count": null,
   "metadata": {},
   "outputs": [],
   "source": []
  }
 ],
 "metadata": {
  "kernelspec": {
   "display_name": "Python 3",
   "language": "python",
   "name": "python3"
  },
  "language_info": {
   "codemirror_mode": {
    "name": "ipython",
    "version": 3
   },
   "file_extension": ".py",
   "mimetype": "text/x-python",
   "name": "python",
   "nbconvert_exporter": "python",
   "pygments_lexer": "ipython3",
   "version": "3.7.6"
  },
  "toc": {
   "base_numbering": 1,
   "nav_menu": {},
   "number_sections": true,
   "sideBar": true,
   "skip_h1_title": false,
   "title_cell": "Table of Contents",
   "title_sidebar": "Contents",
   "toc_cell": false,
   "toc_position": {},
   "toc_section_display": true,
   "toc_window_display": false
  }
 },
 "nbformat": 4,
 "nbformat_minor": 4
}
