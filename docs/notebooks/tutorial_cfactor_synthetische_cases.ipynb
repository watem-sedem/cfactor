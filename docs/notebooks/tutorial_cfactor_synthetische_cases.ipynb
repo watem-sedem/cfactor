{
 "cells": [
  {
   "cell_type": "code",
   "execution_count": 1,
   "metadata": {},
   "outputs": [],
   "source": [
    "# This block enables local development of the scripts in the `src` folder while using the functions directly in this notebook without restart\n",
    "%load_ext autoreload\n",
    "%autoreload 2"
   ]
  },
  {
   "cell_type": "markdown",
   "metadata": {},
   "source": [
    "# Modules"
   ]
  },
  {
   "cell_type": "markdown",
   "metadata": {},
   "source": [
    "## Python"
   ]
  },
  {
   "cell_type": "code",
   "execution_count": 2,
   "metadata": {
    "code_folding": []
   },
   "outputs": [],
   "source": [
    "import sys\n",
    "import os"
   ]
  },
  {
   "cell_type": "markdown",
   "metadata": {},
   "source": [
    "## Package"
   ]
  },
  {
   "cell_type": "code",
   "execution_count": 3,
   "metadata": {},
   "outputs": [],
   "source": [
    "sys.path.append(r\"C:\\Users\\SachaGobeyn\\GitHub\\CNWS-processing-scripts\\cnws\\src\\cfactor\")\n",
    "from cfactor import cfactor,init\n",
    "from pertube import pertube\n",
    "from general import initialize_files\n",
    "from plots import generate_report\n",
    "from synthetic import generate_synthetic_parcels"
   ]
  },
  {
   "cell_type": "markdown",
   "metadata": {},
   "source": [
    "# Paden"
   ]
  },
  {
   "cell_type": "code",
   "execution_count": 4,
   "metadata": {
    "code_folding": []
   },
   "outputs": [],
   "source": [
    "#path_inputdata = r\"C:\\Users\\SachaGobeyn\\Dropbox (Fluves)\\ALBON\\C-factor\\2. ANALYSES\\-testtutorial\\inputdata\"\n",
    "path_sources = os.path.join(\"..\",\"..\",\"src\",\"cfactor\",\"data\",\"raw\")\n",
    "path_tempdata = os.path.join(\"..\",\"..\",\"src\",\"cfactor\",\"temp\")\n",
    "path_resmap  = os.path.join(\"..\",\"..\",\"src\",\"cfactor\",\"res\")\n",
    "\n",
    "paths_teeltdata= initialize_files(path_sources)"
   ]
  },
  {
   "cell_type": "markdown",
   "metadata": {},
   "source": [
    "# Run model for all crops (with a synthetic crop rotation)"
   ]
  },
  {
   "cell_type": "markdown",
   "metadata": {},
   "source": [
    "## (Latex!) Generate report"
   ]
  },
  {
   "cell_type": "code",
   "execution_count": 7,
   "metadata": {},
   "outputs": [
    {
     "name": "stdout",
     "output_type": "stream",
     "text": [
      "latex installed\n"
     ]
    },
    {
     "name": "stderr",
     "output_type": "stream",
     "text": [
      "findfont: Font family ['sans-serif'] not found. Falling back to DejaVu Sans.\n"
     ]
    }
   ],
   "source": [
    "generate_report(paths_teeltdata,path_resmap,\"fiches_inputdata\")"
   ]
  },
  {
   "cell_type": "markdown",
   "metadata": {},
   "source": [
    "## Generate synthetic parcel to compute Corn"
   ]
  },
  {
   "cell_type": "code",
   "execution_count": 42,
   "metadata": {},
   "outputs": [],
   "source": [
    "# functies perceelslijst\n",
    "parcel_list = generate_synthetic_parcels(paths_teeltdata,path_tempdata)"
   ]
  },
  {
   "cell_type": "markdown",
   "metadata": {},
   "source": [
    "## Run cfactor model"
   ]
  },
  {
   "cell_type": "code",
   "execution_count": 70,
   "metadata": {},
   "outputs": [
    {
     "name": "stdout",
     "output_type": "stream",
     "text": [
      "[cfactor] Running 0th parcel of 1 on processor 1\n",
      "[cfactor] Elapsed time (min): 0.00\n",
      "   perceel_id         C  SLR_0  SLR_1  SLR_2  SLR_3  SLR_4  SLR_5     SLR_6  \\\n",
      "0    999940.0  0.147892    1.0    1.0    1.0    1.0    1.0    1.0  0.954826   \n",
      "\n",
      "      SLR_7  ...  H_14  H_15  H_16  H_17  H_18  H_19  H_20  H_21  H_22  H_23  \n",
      "0  0.706554  ...  0.03  0.03  0.03  0.03  0.03  0.03  0.03  0.03  0.03  0.03  \n",
      "\n",
      "[1 rows x 74 columns]\n"
     ]
    }
   ],
   "source": [
    "# Run model\n",
    "year = 2017\n",
    "parcel_list = parcel_list[parcel_list[\"perceel_id\"]==999940]\n",
    "parcel, crop_prop, ggg, grid = init(parcel_list,paths_teeltdata,year)\n",
    "out = cfactor(parcel, grid, ggg, crop_prop, year,\n",
    "                                        output_map=os.path.join(path_resmap),ffull_output=True, \n",
    "                                        multiprocessing=False)\n",
    "print(out)"
   ]
  },
  {
   "cell_type": "code",
   "execution_count": 32,
   "metadata": {},
   "outputs": [
    {
     "data": {
      "text/plain": [
       "'..\\\\..\\\\src\\\\cfactor\\\\res'"
      ]
     },
     "execution_count": 32,
     "metadata": {},
     "output_type": "execute_result"
    }
   ],
   "source": [
    "path_resmap"
   ]
  },
  {
   "cell_type": "markdown",
   "metadata": {},
   "source": [
    "\n",
    "# Pertube input data: Mais"
   ]
  },
  {
   "cell_type": "markdown",
   "metadata": {},
   "source": [
    "## Parameter to pertube"
   ]
  },
  {
   "cell_type": "code",
   "execution_count": 65,
   "metadata": {},
   "outputs": [],
   "source": [
    "# Fill in parameters\n",
    "GWSCOD = 201\n",
    "parameter = {\"max_bedekking(%)\":80}\n",
    "\n",
    "# Pertube input\n",
    "paths_pertubed_teeltdata = pertube(GWSCOD,parameter,paths_teeltdata,path_tempdata)"
   ]
  },
  {
   "cell_type": "markdown",
   "metadata": {},
   "source": [
    "## Report, synthetic parcel and run model"
   ]
  },
  {
   "cell_type": "code",
   "execution_count": 45,
   "metadata": {},
   "outputs": [
    {
     "ename": "NameError",
     "evalue": "name 'paths_pertubed_teeltdata' is not defined",
     "output_type": "error",
     "traceback": [
      "\u001b[1;31m---------------------------------------------------------------------------\u001b[0m",
      "\u001b[1;31mNameError\u001b[0m                                 Traceback (most recent call last)",
      "\u001b[1;32m<ipython-input-45-85d7e67877cf>\u001b[0m in \u001b[0;36m<module>\u001b[1;34m\u001b[0m\n\u001b[0;32m      1\u001b[0m \u001b[1;31m# report\u001b[0m\u001b[1;33m\u001b[0m\u001b[1;33m\u001b[0m\u001b[1;33m\u001b[0m\u001b[0m\n\u001b[1;32m----> 2\u001b[1;33m \u001b[0mgenerate_report\u001b[0m\u001b[1;33m(\u001b[0m\u001b[0mpaths_pertubed_teeltdata\u001b[0m\u001b[1;33m,\u001b[0m\u001b[0mpath_resmap\u001b[0m\u001b[1;33m,\u001b[0m\u001b[1;34m\"fiches_inputdata\"\u001b[0m\u001b[1;33m,\u001b[0m\u001b[0mGWSCOD\u001b[0m\u001b[1;33m=\u001b[0m\u001b[0mGWSCOD\u001b[0m\u001b[1;33m)\u001b[0m\u001b[1;33m\u001b[0m\u001b[1;33m\u001b[0m\u001b[0m\n\u001b[0m\u001b[0;32m      3\u001b[0m \u001b[1;31m# functies perceelslijst\u001b[0m\u001b[1;33m\u001b[0m\u001b[1;33m\u001b[0m\u001b[1;33m\u001b[0m\u001b[0m\n\u001b[0;32m      4\u001b[0m \u001b[0mparcel_list\u001b[0m \u001b[1;33m=\u001b[0m \u001b[0mgenerate_synthetic_parcels\u001b[0m\u001b[1;33m(\u001b[0m\u001b[0mpaths_pertubed_teeltdata\u001b[0m\u001b[1;33m,\u001b[0m\u001b[0mpath_tempdata\u001b[0m\u001b[1;33m,\u001b[0m\u001b[0mGWSCOD\u001b[0m\u001b[1;33m=\u001b[0m\u001b[0mGWSCOD\u001b[0m\u001b[1;33m)\u001b[0m\u001b[1;33m\u001b[0m\u001b[1;33m\u001b[0m\u001b[0m\n\u001b[0;32m      5\u001b[0m \u001b[1;31m# Run model\u001b[0m\u001b[1;33m\u001b[0m\u001b[1;33m\u001b[0m\u001b[1;33m\u001b[0m\u001b[0m\n",
      "\u001b[1;31mNameError\u001b[0m: name 'paths_pertubed_teeltdata' is not defined"
     ]
    }
   ],
   "source": [
    "# report\n",
    "generate_report(paths_pertubed_teeltdata,path_resmap,\"fiches_inputdata\",GWSCOD=GWSCOD)\n",
    "# functies perceelslijst\n",
    "parcel_list = generate_synthetic_parcels(paths_pertubed_teeltdata,path_tempdata,GWSCOD=GWSCOD)\n",
    "# Run model\n",
    "parcel, crop_prop, ggg, grid = init(parcel_list,paths_teeltdata,year)\n",
    "out = cfactor(parcel, grid, ggg, crop_prop, year,\n",
    "                                        output_map=os.path.join(path_resmap),ffull_output=True, \n",
    "                                        multiprocessing=False)\n",
    "print(out)\n",
    "# Run model with pertubed inputdata \n",
    "parcel, crop_prop, ggg, grid = init(parcel_list,paths_pertubed_teeltdata,year)\n",
    "out = cfactor(parcel, grid, ggg, crop_prop, year,\n",
    "                                        output_map=os.path.join(path_resmap),ffull_output=True, \n",
    "                                        multiprocessing=False)\n",
    "print(out)"
   ]
  },
  {
   "cell_type": "markdown",
   "metadata": {},
   "source": [
    "# Suikerbieten"
   ]
  },
  {
   "cell_type": "code",
   "execution_count": null,
   "metadata": {},
   "outputs": [],
   "source": [
    "GWSCOD = 71\n",
    "parameter = {\"max_bedekking(%)\":90}\n",
    "\n",
    "# Pertube input\n",
    "paths_pertubed_teeltdata = pertube(GWSCOD,parameter,paths_teeltdata,path_tempdata)\n",
    "\n",
    "# report\n",
    "generate_report(paths_pertubed_teeltdata,path_resmap,\"fiches_inputdata\",GWSCOD=GWSCOD)\n",
    "# functies perceelslijst\n",
    "parcel_list = generate_synthetic_parcels(paths_pertubed_teeltdata,path_tempdata,GWSCOD=GWSCOD)\n",
    "\n",
    "# Run model\n",
    "parcel, crop_prop, ggg, grid = init(parcel_list,paths_teeltdata,year)\n",
    "out = cfactor(parcel, grid, ggg, crop_prop, year,\n",
    "                                        output_map=os.path.join(path_resmap),ffull_output=True, \n",
    "                                        multiprocessing=False)\n",
    "print(out)\n",
    "# Run model with pertubed inputdata \n",
    "parcel, crop_prop, ggg, grid = init(parcel_list,paths_pertubed_teeltdata,year)\n",
    "out = cfactor(parcel, grid, ggg, crop_prop, year,\n",
    "                                        output_map=os.path.join(path_resmap),ffull_output=True, \n",
    "                                        multiprocessing=False)\n",
    "print(out)"
   ]
  },
  {
   "cell_type": "markdown",
   "metadata": {},
   "source": [
    "# Wintertarwe"
   ]
  },
  {
   "cell_type": "code",
   "execution_count": null,
   "metadata": {},
   "outputs": [],
   "source": [
    "GWSCOD = 311\n",
    "parameter = {\"oogstresten(kg/ha)\":4375}\n",
    "\n",
    "# Pertube input\n",
    "paths_pertubed_teeltdata = pertube(GWSCOD,parameter,paths_teeltdata,path_tempdata)\n",
    "\n",
    "# report\n",
    "generate_report(paths_pertubed_teeltdata,path_resmap,\"fiches_inputdata\",GWSCOD=GWSCOD)\n",
    "# functies perceelslijst\n",
    "parcel_list = generate_synthetic_parcels(paths_pertubed_teeltdata,path_tempdata,GWSCOD=GWSCOD)\n",
    "\n",
    "# Run model\n",
    "parcel, crop_prop, ggg, grid = init(parcel_list,paths_teeltdata,year)\n",
    "out = cfactor(parcel, grid, ggg, crop_prop, year,\n",
    "                                        output_map=os.path.join(path_resmap),ffull_output=True, \n",
    "                                        multiprocessing=False)\n",
    "print(out)\n",
    "# Run model with pertubed inputdata \n",
    "parcel, crop_prop, ggg, grid = init(parcel_list,paths_pertubed_teeltdata,year)\n",
    "out = cfactor(parcel, grid, ggg, crop_prop, year,\n",
    "                                        output_map=os.path.join(path_resmap),ffull_output=True, \n",
    "                                        multiprocessing=False)\n",
    "print(out)"
   ]
  },
  {
   "cell_type": "code",
   "execution_count": null,
   "metadata": {},
   "outputs": [],
   "source": []
  }
 ],
 "metadata": {
  "kernelspec": {
   "display_name": "Python 3",
   "language": "python",
   "name": "python3"
  },
  "language_info": {
   "codemirror_mode": {
    "name": "ipython",
    "version": 3
   },
   "file_extension": ".py",
   "mimetype": "text/x-python",
   "name": "python",
   "nbconvert_exporter": "python",
   "pygments_lexer": "ipython3",
   "version": "3.7.6"
  },
  "toc": {
   "base_numbering": 1,
   "nav_menu": {},
   "number_sections": true,
   "sideBar": true,
   "skip_h1_title": false,
   "title_cell": "Table of Contents",
   "title_sidebar": "Contents",
   "toc_cell": false,
   "toc_position": {},
   "toc_section_display": true,
   "toc_window_display": false
  },
  "varInspector": {
   "cols": {
    "lenName": 16,
    "lenType": 16,
    "lenVar": 40
   },
   "kernels_config": {
    "python": {
     "delete_cmd_postfix": "",
     "delete_cmd_prefix": "del ",
     "library": "var_list.py",
     "varRefreshCmd": "print(var_dic_list())"
    },
    "r": {
     "delete_cmd_postfix": ") ",
     "delete_cmd_prefix": "rm(",
     "library": "var_list.r",
     "varRefreshCmd": "cat(var_dic_list()) "
    }
   },
   "types_to_exclude": [
    "module",
    "function",
    "builtin_function_or_method",
    "instance",
    "_Feature"
   ],
   "window_display": false
  }
 },
 "nbformat": 4,
 "nbformat_minor": 2
}
