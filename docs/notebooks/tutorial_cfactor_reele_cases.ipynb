{
 "cells": [
  {
   "cell_type": "code",
   "execution_count": 77,
   "metadata": {},
   "outputs": [
    {
     "name": "stdout",
     "output_type": "stream",
     "text": [
      "The autoreload extension is already loaded. To reload it, use:\n",
      "  %reload_ext autoreload\n"
     ]
    }
   ],
   "source": [
    "# This block enables local development of the scripts in the `src` folder while using the functions directly in this notebook without restart\n",
    "%load_ext autoreload\n",
    "%autoreload 2"
   ]
  },
  {
   "cell_type": "markdown",
   "metadata": {},
   "source": [
    "# Modules"
   ]
  },
  {
   "cell_type": "markdown",
   "metadata": {},
   "source": [
    "## Python"
   ]
  },
  {
   "cell_type": "code",
   "execution_count": 78,
   "metadata": {},
   "outputs": [],
   "source": [
    "import sys\n",
    "import os\n",
    "from pathlib import Path\n",
    "import numpy as np\n",
    "import pandas as pd\n",
    "import geopandas as gpd\n",
    "import pdb\n",
    "import matplotlib.pyplot as plt\n",
    "import seaborn as sns"
   ]
  },
  {
   "cell_type": "markdown",
   "metadata": {},
   "source": [
    "## Package"
   ]
  },
  {
   "cell_type": "code",
   "execution_count": 79,
   "metadata": {},
   "outputs": [],
   "source": [
    "sys.path.append(r\"C:\\Users\\SachaGobeyn\\GitHub\\CNWS-processing-scripts\\cnws\\src\\cfactor\")\n",
    "from cfactor import cfactor,init\n",
    "from general import initialize_files,prepare_parcel_input"
   ]
  },
  {
   "cell_type": "markdown",
   "metadata": {},
   "source": [
    "# Trailrun Maarkebeek"
   ]
  },
  {
   "cell_type": "markdown",
   "metadata": {},
   "source": [
    "## Gewasgegevens"
   ]
  },
  {
   "cell_type": "code",
   "execution_count": 4,
   "metadata": {},
   "outputs": [],
   "source": [
    "#path_inputdata = r\"C:\\Users\\SachaGobeyn\\Dropbox (Fluves)\\ALBON\\C-factor\\2. ANALYSES\\-testtutorial\\inputdata\"\n",
    "path_sources = os.path.join(\"..\",\"..\",\"src\",\"cfactor\",\"data\",\"raw\")\n",
    "path_tempdata = os.path.join(\"..\",\"..\",\"src\",\"cfactor\",\"temp\")\n",
    "path_resmap  = os.path.join(r\"C:\\Users\\SachaGobeyn\\Dropbox (Fluves)\\ALBON\\C-factor\\2. ANALYSES\\analyse_Vlaanderen\\Maarkedal\")\n",
    "\n",
    "paths_teeltdata= initialize_files(path_sources)"
   ]
  },
  {
   "cell_type": "markdown",
   "metadata": {},
   "source": [
    "## Percelenkaart"
   ]
  },
  {
   "cell_type": "code",
   "execution_count": 5,
   "metadata": {},
   "outputs": [],
   "source": [
    "in_Shp = {}\n",
    "in_Shp[\"2015\"] = Path(r\"C:\\Users\\SachaGobeyn\\Dropbox (Fluves)\\ALBON\\DATA\\GIS-data\\thematic\\Landbouwgebruikspercelen\\LandbouwVisserij\\Landbouwgebruikspercelen_2015_(toestand_10-08-2016)_la72.shp\")\n",
    "in_Shp[\"2016\"] = Path(r\"C:\\Users\\SachaGobeyn\\Dropbox (Fluves)\\ALBON\\DATA\\GIS-data\\thematic\\Landbouwgebruikspercelen\\LandbouwVisserij\\Landbouwgebruikspercelen_2016_(toestand_16-01-2017)_la72.shp\")\n",
    "clip_Shp = Path(r\"C:\\Users\\SachaGobeyn\\Dropbox (Fluves)\\ALBON\\C-factor\\2. ANALYSES\\analyse_Vlaanderen\\Maarkedal\\catchment_shape\\Maarkebeek.shp\")\n",
    "\n",
    "parcel_list = prepare_parcel_input(in_Shp,clip_Shp,path_tempdata)"
   ]
  },
  {
   "cell_type": "markdown",
   "metadata": {},
   "source": [
    "## Run cfactor model for Maarkebeek"
   ]
  },
  {
   "cell_type": "code",
   "execution_count": 13,
   "metadata": {},
   "outputs": [
    {
     "name": "stdout",
     "output_type": "stream",
     "text": [
      "Some crop inputdata are incomplete, removing records\n"
     ]
    }
   ],
   "source": [
    "parcel, crop_prop, ggg, grid = init(parcel_list,paths_teeltdata,2016)\n",
    "out = cfactor(parcel, grid, ggg, crop_prop, 2016,\n",
    "                                        output_map=os.path.join(path_resmap),ffull_output=True, \n",
    "                                        multiprocessing=True)"
   ]
  },
  {
   "cell_type": "markdown",
   "metadata": {},
   "source": [
    "# Volledig Vlaanderen"
   ]
  },
  {
   "cell_type": "code",
   "execution_count": 73,
   "metadata": {},
   "outputs": [],
   "source": [
    "catchments = [\"Demerbekken\"]\n",
    "             #   [\"Bekken_Brugse_polders\",\"Bekken_Gentse_kanalen\",\"Beneden-Scheldebekken\",\n",
    "             # \"Boven-scheldebekken\",\"Demerbekken\",\"Dijlebekken\",\"Ijzerbekken\",\"Leiebekken\",\n",
    "             # \"Maasbekken_N\",\"Maasbekken_E\",\"Netebekken\",\"Voeren\"]\n",
    "catchMap =  r\"C:\\Users\\SachaGobeyn\\Dropbox (Fluves)\\ALBON\\Modelberekeningen\\v8\\Vlaanderen_Bekkens\\catchments\"\n",
    "resMap = r\"C:/Users/SachaGobeyn/Dropbox (Fluves)/ALBON/C-factor/2. ANALYSES/analyse_Vlaanderen/\""
   ]
  },
  {
   "cell_type": "markdown",
   "metadata": {},
   "source": [
    "## Prepare parcels"
   ]
  },
  {
   "cell_type": "code",
   "execution_count": 74,
   "metadata": {},
   "outputs": [
    {
     "name": "stdout",
     "output_type": "stream",
     "text": [
      "Demerbekken\n",
      "Some crop inputdata are incomplete, removing records\n"
     ]
    }
   ],
   "source": [
    "in_Shp = {}\n",
    "in_Shp[\"2015\"] = Path(r\"C:\\Users\\SachaGobeyn\\Dropbox (Fluves)\\ALBON\\DATA\\GIS-data\\thematic\\Landbouwgebruikspercelen\\LandbouwVisserij\\Landbouwgebruikspercelen_2015_(toestand_10-08-2016)_la72.shp\")\n",
    "in_Shp[\"2016\"] = Path(r\"C:\\Users\\SachaGobeyn\\Dropbox (Fluves)\\ALBON\\DATA\\GIS-data\\thematic\\Landbouwgebruikspercelen\\LandbouwVisserij\\Landbouwgebruikspercelen_2016_(toestand_16-01-2017)_la72.shp\")\n",
    "\n",
    "for i in catchments:\n",
    "    print(i)\n",
    "    clip_Shp = Path(os.path.join(catchMap,\"%s.shp\"%i))\n",
    "    parcel_list = prepare_parcel_input(in_Shp,clip_Shp,path_tempdata)\n",
    "    parcel_list = pd.read_csv(os.path.join(resMap,\"parcel_list_%s.csv\"%i))\n",
    "    parcel, crop_prop, ggg, grid = init(parcel_list,paths_teeltdata,2016)\n",
    "    parcel.to_csv(os.path.join(resMap,\"parcel_list_%s.shp\"%i))\n",
    "    #parcel, crop_prop, ggg, grid = init(parcel_list,paths_teeltdata,2016)\n",
    "    #out = cfactor(parcel, grid, ggg, crop_prop, 2016,\n",
    "    #                                        output_map=os.path.join(path_resmap),ffull_output=True, \n",
    "    #                                        multiprocessing=True)"
   ]
  },
  {
   "cell_type": "markdown",
   "metadata": {},
   "source": [
    "## Run cfactor"
   ]
  },
  {
   "cell_type": "code",
   "execution_count": 80,
   "metadata": {},
   "outputs": [],
   "source": [
    "for i in catchments:\n",
    "    parcel =  pd.read_csv(os.path.join(resMap,\"parcel_list_%s.shp\"%i))\n",
    "    out = cfactor(parcel, grid, ggg, crop_prop, 2016,\n",
    "                                            output_map=os.path.join(path_resmap),ffull_output=False, \n",
    "                                            multiprocessing=True)\n",
    "    out.to_csv(os.path.join(resMap,\"cfactor_%s.csv\"%i))"
   ]
  },
  {
   "cell_type": "markdown",
   "metadata": {},
   "source": [
    "## Analyse"
   ]
  },
  {
   "cell_type": "markdown",
   "metadata": {},
   "source": [
    "### load"
   ]
  },
  {
   "cell_type": "code",
   "execution_count": 81,
   "metadata": {},
   "outputs": [
    {
     "ename": "NameError",
     "evalue": "name 'c' is not defined",
     "output_type": "error",
     "traceback": [
      "\u001b[1;31m---------------------------------------------------------------------------\u001b[0m",
      "\u001b[1;31mNameError\u001b[0m                                 Traceback (most recent call last)",
      "\u001b[1;32m<ipython-input-81-9d58d5d171d1>\u001b[0m in \u001b[0;36m<module>\u001b[1;34m\u001b[0m\n\u001b[0;32m     13\u001b[0m     \u001b[0mtemp\u001b[0m \u001b[1;33m=\u001b[0m \u001b[0mpd\u001b[0m\u001b[1;33m.\u001b[0m\u001b[0mread_csv\u001b[0m\u001b[1;33m(\u001b[0m\u001b[0mos\u001b[0m\u001b[1;33m.\u001b[0m\u001b[0mpath\u001b[0m\u001b[1;33m.\u001b[0m\u001b[0mjoin\u001b[0m\u001b[1;33m(\u001b[0m\u001b[0mresMap\u001b[0m\u001b[1;33m,\u001b[0m\u001b[1;34m\"cfactor_%s.csv\"\u001b[0m\u001b[1;33m%\u001b[0m\u001b[0mi\u001b[0m\u001b[1;33m)\u001b[0m\u001b[1;33m)\u001b[0m\u001b[1;33m\u001b[0m\u001b[1;33m\u001b[0m\u001b[0m\n\u001b[0;32m     14\u001b[0m     \u001b[0mtemp\u001b[0m \u001b[1;33m=\u001b[0m \u001b[0mtemp\u001b[0m\u001b[1;33m.\u001b[0m\u001b[0mmerge\u001b[0m\u001b[1;33m(\u001b[0m\u001b[0mparcel_list\u001b[0m\u001b[1;33m,\u001b[0m\u001b[0mon\u001b[0m\u001b[1;33m=\u001b[0m\u001b[1;34m\"perceel_id\"\u001b[0m\u001b[1;33m,\u001b[0m\u001b[0mhow\u001b[0m\u001b[1;33m=\u001b[0m\u001b[1;34m\"left\"\u001b[0m\u001b[1;33m)\u001b[0m\u001b[1;33m.\u001b[0m\u001b[0mmerge\u001b[0m\u001b[1;33m(\u001b[0m\u001b[0mgewas\u001b[0m\u001b[1;33m,\u001b[0m\u001b[0mon\u001b[0m\u001b[1;33m=\u001b[0m\u001b[1;34m\"perceel_id\"\u001b[0m\u001b[1;33m,\u001b[0m\u001b[0mhow\u001b[0m\u001b[1;33m=\u001b[0m\u001b[1;34m\"left\"\u001b[0m\u001b[1;33m)\u001b[0m\u001b[1;33m\u001b[0m\u001b[1;33m\u001b[0m\u001b[0m\n\u001b[1;32m---> 15\u001b[1;33m     \u001b[0mc\u001b[0m\u001b[1;33m.\u001b[0m\u001b[0mappend\u001b[0m\u001b[1;33m(\u001b[0m\u001b[0mtemp\u001b[0m\u001b[1;33m)\u001b[0m\u001b[1;33m\u001b[0m\u001b[1;33m\u001b[0m\u001b[0m\n\u001b[0m\u001b[0;32m     16\u001b[0m \u001b[1;33m\u001b[0m\u001b[0m\n\u001b[0;32m     17\u001b[0m \u001b[0mparcellists\u001b[0m \u001b[1;33m=\u001b[0m \u001b[0mpd\u001b[0m\u001b[1;33m.\u001b[0m\u001b[0mconcat\u001b[0m\u001b[1;33m(\u001b[0m\u001b[0mparcellists\u001b[0m\u001b[1;33m)\u001b[0m\u001b[1;33m\u001b[0m\u001b[1;33m\u001b[0m\u001b[0m\n",
      "\u001b[1;31mNameError\u001b[0m: name 'c' is not defined"
     ]
    }
   ],
   "source": [
    "cfactor = []\n",
    "parcellists = []\n",
    "\n",
    "catchments_ = [\"Demerbekken\"]\n",
    "for i in catchments_:\n",
    "    parcel_list = pd.read_csv(os.path.join(resMap,\"parcel_list_%s.csv\"%i))\n",
    "    parcel_list[\"catchm\"] = i\n",
    "    parcellists.append(parcel_list)\n",
    "    parcel_list = parcel_list[parcel_list[\"jaar\"]==2016]\n",
    "    gewas = parcel_list[[\"perceel_id\",\"GWSCOD\",\"catchm\"]][parcel_list[\"type\"]==2]\n",
    "    parcel_list = parcel_list.groupby([\"perceel_id\",\"REF_ID\",\"catchm\"]).aggregate({\"type\":np.sum}).reset_index()\n",
    "    parcel_list = parcel_list[parcel_list[\"type\"]<7]\n",
    "    temp = pd.read_csv(os.path.join(resMap,\"cfactor_%s.csv\"%i))\n",
    "    temp = temp.merge(parcel_list,on=\"perceel_id\",how=\"left\").merge(gewas,on=\"perceel_id\",how=\"left\")\n",
    "    c.append(temp)\n",
    "    \n",
    "parcellists = pd.concat(parcellists)\n",
    "c = pd.concat(c)\n",
    "\n",
    "types = {2:\"H\",3:\"V+H\",5:\"H+N\",6:\"V+H+N\"}\n",
    "\n",
    "c = c.replace(types)"
   ]
  },
  {
   "cell_type": "markdown",
   "metadata": {},
   "source": [
    "### boxplot"
   ]
  },
  {
   "cell_type": "code",
   "execution_count": null,
   "metadata": {},
   "outputs": [],
   "source": [
    "for i in gewas[\"GWSCOD\"].unique()[0:10]:\n",
    "    fig,ax = plt.subplots()\n",
    "    ax =  sns.boxplot(x=\"GWSCOD\", y=\"C\", data=c[c[\"GWSCOD\"]==i],hue=\"type\")"
   ]
  },
  {
   "cell_type": "code",
   "execution_count": 61,
   "metadata": {},
   "outputs": [
    {
     "data": {
      "text/plain": [
       "(array([3.09964e+05, 1.08690e+04, 3.10000e+02, 6.73790e+04, 2.39620e+04,\n",
       "        3.40000e+01, 6.00000e+00, 0.00000e+00, 0.00000e+00, 2.00000e+00]),\n",
       " array([ 2. ,  2.9,  3.8,  4.7,  5.6,  6.5,  7.4,  8.3,  9.2, 10.1, 11. ]),\n",
       " <a list of 10 Patch objects>)"
      ]
     },
     "execution_count": 61,
     "metadata": {},
     "output_type": "execute_result"
    },
    {
     "data": {
      "image/png": "[encoded data removed]",
      "text/plain": [
       "<Figure size 432x288 with 1 Axes>"
      ]
     },
     "metadata": {
      "needs_background": "light"
     },
     "output_type": "display_data"
    }
   ],
   "source": [
    "plt.hist(cfactor[\"type\"])"
   ]
  },
  {
   "cell_type": "code",
   "execution_count": 47,
   "metadata": {},
   "outputs": [
    {
     "data": {
      "text/html": [
       "<div>\n",
       "<style scoped>\n",
       "    .dataframe tbody tr th:only-of-type {\n",
       "        vertical-align: middle;\n",
       "    }\n",
       "\n",
       "    .dataframe tbody tr th {\n",
       "        vertical-align: top;\n",
       "    }\n",
       "\n",
       "    .dataframe thead th {\n",
       "        text-align: right;\n",
       "    }\n",
       "</style>\n",
       "<table border=\"1\" class=\"dataframe\">\n",
       "  <thead>\n",
       "    <tr style=\"text-align: right;\">\n",
       "      <th></th>\n",
       "      <th>Unnamed: 0</th>\n",
       "      <th>REF_ID</th>\n",
       "      <th>CODE_OBJ</th>\n",
       "      <th>perceel_id</th>\n",
       "      <th>jaar</th>\n",
       "      <th>type</th>\n",
       "      <th>GWSCOD</th>\n",
       "      <th>catchm</th>\n",
       "    </tr>\n",
       "  </thead>\n",
       "  <tbody>\n",
       "    <tr>\n",
       "      <th>159685</th>\n",
       "      <td>251631</td>\n",
       "      <td>1645845981</td>\n",
       "      <td>00002802642418F4</td>\n",
       "      <td>74865</td>\n",
       "      <td>2016</td>\n",
       "      <td>2</td>\n",
       "      <td>311</td>\n",
       "      <td>Demerbekken</td>\n",
       "    </tr>\n",
       "    <tr>\n",
       "      <th>159686</th>\n",
       "      <td>270957</td>\n",
       "      <td>1645845981</td>\n",
       "      <td>0000280263B19839</td>\n",
       "      <td>74865</td>\n",
       "      <td>2016</td>\n",
       "      <td>2</td>\n",
       "      <td>9710</td>\n",
       "      <td>Demerbekken</td>\n",
       "    </tr>\n",
       "    <tr>\n",
       "      <th>159687</th>\n",
       "      <td>387995</td>\n",
       "      <td>1645845981</td>\n",
       "      <td>00002802642418F4</td>\n",
       "      <td>74865</td>\n",
       "      <td>2016</td>\n",
       "      <td>3</td>\n",
       "      <td>321</td>\n",
       "      <td>Demerbekken</td>\n",
       "    </tr>\n",
       "    <tr>\n",
       "      <th>157283</th>\n",
       "      <td>243432</td>\n",
       "      <td>1540425775</td>\n",
       "      <td>000028025F13B3B1</td>\n",
       "      <td>74865</td>\n",
       "      <td>2016</td>\n",
       "      <td>2</td>\n",
       "      <td>3</td>\n",
       "      <td>Ijzerbekken</td>\n",
       "    </tr>\n",
       "  </tbody>\n",
       "</table>\n",
       "</div>"
      ],
      "text/plain": [
       "        Unnamed: 0      REF_ID          CODE_OBJ  perceel_id  jaar  type  \\\n",
       "159685      251631  1645845981  00002802642418F4       74865  2016     2   \n",
       "159686      270957  1645845981  0000280263B19839       74865  2016     2   \n",
       "159687      387995  1645845981  00002802642418F4       74865  2016     3   \n",
       "157283      243432  1540425775  000028025F13B3B1       74865  2016     2   \n",
       "\n",
       "        GWSCOD       catchm  \n",
       "159685     311  Demerbekken  \n",
       "159686    9710  Demerbekken  \n",
       "159687     321  Demerbekken  \n",
       "157283       3  Ijzerbekken  "
      ]
     },
     "execution_count": 47,
     "metadata": {},
     "output_type": "execute_result"
    }
   ],
   "source": [
    "parcellists[parcellists[\"perceel_id\"]==74865]"
   ]
  },
  {
   "cell_type": "code",
   "execution_count": 48,
   "metadata": {},
   "outputs": [],
   "source": [
    "temp = gpd.read_file(r\"C:\\Users\\SachaGobeyn\\Dropbox (Fluves)\\ALBON\\DATA\\GIS-data\\thematic\\Landbouwgebruikspercelen\\LandbouwVisserij\\Landbouwgebruikspercelen_2016_(toestand_16-01-2017)_la72.shp\")"
   ]
  },
  {
   "cell_type": "code",
   "execution_count": 49,
   "metadata": {},
   "outputs": [],
   "source": []
  },
  {
   "cell_type": "code",
   "execution_count": 50,
   "metadata": {},
   "outputs": [
    {
     "data": {
      "text/html": [
       "<div>\n",
       "<style scoped>\n",
       "    .dataframe tbody tr th:only-of-type {\n",
       "        vertical-align: middle;\n",
       "    }\n",
       "\n",
       "    .dataframe tbody tr th {\n",
       "        vertical-align: top;\n",
       "    }\n",
       "\n",
       "    .dataframe thead th {\n",
       "        text-align: right;\n",
       "    }\n",
       "</style>\n",
       "<table border=\"1\" class=\"dataframe\">\n",
       "  <thead>\n",
       "    <tr style=\"text-align: right;\">\n",
       "      <th></th>\n",
       "      <th>CODE_OBJ</th>\n",
       "      <th>CMP_COD</th>\n",
       "      <th>ANONI_NR</th>\n",
       "      <th>PRC_NMR</th>\n",
       "      <th>AANG_OPP</th>\n",
       "      <th>GRAF_OPP</th>\n",
       "      <th>REF_OPP</th>\n",
       "      <th>REF_ID</th>\n",
       "      <th>GWSCOD_V</th>\n",
       "      <th>GWSNAM_V</th>\n",
       "      <th>...</th>\n",
       "      <th>LANDBSTR</th>\n",
       "      <th>STAT_AAR</th>\n",
       "      <th>PCT_EKBG</th>\n",
       "      <th>PRC_GEM</th>\n",
       "      <th>PRC_NIS</th>\n",
       "      <th>X_REF</th>\n",
       "      <th>Y_REF</th>\n",
       "      <th>WGS84_LG</th>\n",
       "      <th>WGS84_BG</th>\n",
       "      <th>geometry</th>\n",
       "    </tr>\n",
       "  </thead>\n",
       "  <tbody>\n",
       "    <tr>\n",
       "      <th>464490</th>\n",
       "      <td>00002802642418F4</td>\n",
       "      <td>2016</td>\n",
       "      <td>79587870052852</td>\n",
       "      <td>21</td>\n",
       "      <td>0.61</td>\n",
       "      <td>0.9247</td>\n",
       "      <td>0.92</td>\n",
       "      <td>1645845981</td>\n",
       "      <td>None</td>\n",
       "      <td>None</td>\n",
       "      <td>...</td>\n",
       "      <td>ZL</td>\n",
       "      <td>None</td>\n",
       "      <td>None</td>\n",
       "      <td>ALKEN</td>\n",
       "      <td>73001</td>\n",
       "      <td>213023</td>\n",
       "      <td>173611</td>\n",
       "      <td>5°15'50\"</td>\n",
       "      <td>50°52'10\"</td>\n",
       "      <td>POLYGON ((212958.380 173613.670, 212971.330 17...</td>\n",
       "    </tr>\n",
       "    <tr>\n",
       "      <th>505288</th>\n",
       "      <td>0000280263B19839</td>\n",
       "      <td>2016</td>\n",
       "      <td>37840677812182</td>\n",
       "      <td>42</td>\n",
       "      <td>0.90</td>\n",
       "      <td>0.9247</td>\n",
       "      <td>0.92</td>\n",
       "      <td>1645845981</td>\n",
       "      <td>None</td>\n",
       "      <td>None</td>\n",
       "      <td>...</td>\n",
       "      <td>ZL</td>\n",
       "      <td>None</td>\n",
       "      <td>None</td>\n",
       "      <td>ALKEN</td>\n",
       "      <td>73001</td>\n",
       "      <td>213023</td>\n",
       "      <td>173611</td>\n",
       "      <td>5°15'50\"</td>\n",
       "      <td>50°52'10\"</td>\n",
       "      <td>POLYGON ((212958.380 173613.670, 212971.330 17...</td>\n",
       "    </tr>\n",
       "  </tbody>\n",
       "</table>\n",
       "<p>2 rows × 51 columns</p>\n",
       "</div>"
      ],
      "text/plain": [
       "                CODE_OBJ CMP_COD        ANONI_NR PRC_NMR  AANG_OPP  GRAF_OPP  \\\n",
       "464490  00002802642418F4    2016  79587870052852      21      0.61    0.9247   \n",
       "505288  0000280263B19839    2016  37840677812182      42      0.90    0.9247   \n",
       "\n",
       "        REF_OPP      REF_ID GWSCOD_V GWSNAM_V  ... LANDBSTR STAT_AAR PCT_EKBG  \\\n",
       "464490     0.92  1645845981     None     None  ...       ZL     None     None   \n",
       "505288     0.92  1645845981     None     None  ...       ZL     None     None   \n",
       "\n",
       "       PRC_GEM PRC_NIS   X_REF   Y_REF  WGS84_LG   WGS84_BG  \\\n",
       "464490   ALKEN   73001  213023  173611  5°15'50\"  50°52'10\"   \n",
       "505288   ALKEN   73001  213023  173611  5°15'50\"  50°52'10\"   \n",
       "\n",
       "                                                 geometry  \n",
       "464490  POLYGON ((212958.380 173613.670, 212971.330 17...  \n",
       "505288  POLYGON ((212958.380 173613.670, 212971.330 17...  \n",
       "\n",
       "[2 rows x 51 columns]"
      ]
     },
     "execution_count": 50,
     "metadata": {},
     "output_type": "execute_result"
    }
   ],
   "source": []
  },
  {
   "cell_type": "code",
   "execution_count": 53,
   "metadata": {},
   "outputs": [
    {
     "data": {
      "text/html": [
       "<div>\n",
       "<style scoped>\n",
       "    .dataframe tbody tr th:only-of-type {\n",
       "        vertical-align: middle;\n",
       "    }\n",
       "\n",
       "    .dataframe tbody tr th {\n",
       "        vertical-align: top;\n",
       "    }\n",
       "\n",
       "    .dataframe thead th {\n",
       "        text-align: right;\n",
       "    }\n",
       "</style>\n",
       "<table border=\"1\" class=\"dataframe\">\n",
       "  <thead>\n",
       "    <tr style=\"text-align: right;\">\n",
       "      <th></th>\n",
       "      <th>Unnamed: 0</th>\n",
       "      <th>perceel_id</th>\n",
       "      <th>C</th>\n",
       "      <th>SLR_0</th>\n",
       "      <th>SLR_1</th>\n",
       "      <th>SLR_2</th>\n",
       "      <th>SLR_3</th>\n",
       "      <th>SLR_4</th>\n",
       "      <th>SLR_5</th>\n",
       "      <th>SLR_6</th>\n",
       "      <th>...</th>\n",
       "      <th>H_19</th>\n",
       "      <th>H_20</th>\n",
       "      <th>H_21</th>\n",
       "      <th>H_22</th>\n",
       "      <th>H_23</th>\n",
       "      <th>REF_ID</th>\n",
       "      <th>catchm_x</th>\n",
       "      <th>type</th>\n",
       "      <th>GWSCOD</th>\n",
       "      <th>catchm_y</th>\n",
       "    </tr>\n",
       "  </thead>\n",
       "  <tbody>\n",
       "    <tr>\n",
       "      <th>0</th>\n",
       "      <td>0</td>\n",
       "      <td>0.0</td>\n",
       "      <td>0.485868</td>\n",
       "      <td>0.009650</td>\n",
       "      <td>0.009664</td>\n",
       "      <td>0.009674</td>\n",
       "      <td>0.009683</td>\n",
       "      <td>0.009691</td>\n",
       "      <td>0.009700</td>\n",
       "      <td>0.009707</td>\n",
       "      <td>...</td>\n",
       "      <td>0.025</td>\n",
       "      <td>0.03</td>\n",
       "      <td>0.030</td>\n",
       "      <td>0.030</td>\n",
       "      <td>0.03</td>\n",
       "      <td>434034883</td>\n",
       "      <td>Bekken_Brugse_polders</td>\n",
       "      <td>6</td>\n",
       "      <td>201</td>\n",
       "      <td>Bekken_Brugse_polders</td>\n",
       "    </tr>\n",
       "    <tr>\n",
       "      <th>1</th>\n",
       "      <td>1</td>\n",
       "      <td>1.0</td>\n",
       "      <td>0.485868</td>\n",
       "      <td>0.009650</td>\n",
       "      <td>0.009664</td>\n",
       "      <td>0.009674</td>\n",
       "      <td>0.009683</td>\n",
       "      <td>0.009691</td>\n",
       "      <td>0.009700</td>\n",
       "      <td>0.009707</td>\n",
       "      <td>...</td>\n",
       "      <td>0.025</td>\n",
       "      <td>0.03</td>\n",
       "      <td>0.030</td>\n",
       "      <td>0.030</td>\n",
       "      <td>0.03</td>\n",
       "      <td>434034075</td>\n",
       "      <td>Bekken_Brugse_polders</td>\n",
       "      <td>6</td>\n",
       "      <td>201</td>\n",
       "      <td>Bekken_Brugse_polders</td>\n",
       "    </tr>\n",
       "    <tr>\n",
       "      <th>2</th>\n",
       "      <td>2</td>\n",
       "      <td>2.0</td>\n",
       "      <td>0.485868</td>\n",
       "      <td>0.009650</td>\n",
       "      <td>0.009664</td>\n",
       "      <td>0.009674</td>\n",
       "      <td>0.009683</td>\n",
       "      <td>0.009691</td>\n",
       "      <td>0.009700</td>\n",
       "      <td>0.009707</td>\n",
       "      <td>...</td>\n",
       "      <td>0.025</td>\n",
       "      <td>0.03</td>\n",
       "      <td>0.030</td>\n",
       "      <td>0.030</td>\n",
       "      <td>0.03</td>\n",
       "      <td>435951342</td>\n",
       "      <td>Bekken_Brugse_polders</td>\n",
       "      <td>6</td>\n",
       "      <td>201</td>\n",
       "      <td>Bekken_Brugse_polders</td>\n",
       "    </tr>\n",
       "    <tr>\n",
       "      <th>3</th>\n",
       "      <td>3</td>\n",
       "      <td>3.0</td>\n",
       "      <td>0.249801</td>\n",
       "      <td>0.009410</td>\n",
       "      <td>0.009447</td>\n",
       "      <td>0.009474</td>\n",
       "      <td>0.009498</td>\n",
       "      <td>0.009519</td>\n",
       "      <td>0.009545</td>\n",
       "      <td>0.009563</td>\n",
       "      <td>...</td>\n",
       "      <td>0.000</td>\n",
       "      <td>0.00</td>\n",
       "      <td>0.000</td>\n",
       "      <td>0.000</td>\n",
       "      <td>0.00</td>\n",
       "      <td>1314869958</td>\n",
       "      <td>Bekken_Brugse_polders</td>\n",
       "      <td>2</td>\n",
       "      <td>311</td>\n",
       "      <td>Bekken_Brugse_polders</td>\n",
       "    </tr>\n",
       "    <tr>\n",
       "      <th>4</th>\n",
       "      <td>4</td>\n",
       "      <td>4.0</td>\n",
       "      <td>0.105506</td>\n",
       "      <td>0.009410</td>\n",
       "      <td>0.009447</td>\n",
       "      <td>0.009474</td>\n",
       "      <td>0.009498</td>\n",
       "      <td>0.009519</td>\n",
       "      <td>0.009545</td>\n",
       "      <td>0.009563</td>\n",
       "      <td>...</td>\n",
       "      <td>0.030</td>\n",
       "      <td>0.06</td>\n",
       "      <td>0.060</td>\n",
       "      <td>0.060</td>\n",
       "      <td>0.06</td>\n",
       "      <td>935631583</td>\n",
       "      <td>Bekken_Brugse_polders</td>\n",
       "      <td>5</td>\n",
       "      <td>901</td>\n",
       "      <td>Bekken_Brugse_polders</td>\n",
       "    </tr>\n",
       "    <tr>\n",
       "      <th>...</th>\n",
       "      <td>...</td>\n",
       "      <td>...</td>\n",
       "      <td>...</td>\n",
       "      <td>...</td>\n",
       "      <td>...</td>\n",
       "      <td>...</td>\n",
       "      <td>...</td>\n",
       "      <td>...</td>\n",
       "      <td>...</td>\n",
       "      <td>...</td>\n",
       "      <td>...</td>\n",
       "      <td>...</td>\n",
       "      <td>...</td>\n",
       "      <td>...</td>\n",
       "      <td>...</td>\n",
       "      <td>...</td>\n",
       "      <td>...</td>\n",
       "      <td>...</td>\n",
       "      <td>...</td>\n",
       "      <td>...</td>\n",
       "      <td>...</td>\n",
       "    </tr>\n",
       "    <tr>\n",
       "      <th>1461</th>\n",
       "      <td>174</td>\n",
       "      <td>1801.0</td>\n",
       "      <td>0.135459</td>\n",
       "      <td>0.009675</td>\n",
       "      <td>0.009687</td>\n",
       "      <td>0.009695</td>\n",
       "      <td>0.009703</td>\n",
       "      <td>0.009709</td>\n",
       "      <td>0.009717</td>\n",
       "      <td>0.009722</td>\n",
       "      <td>...</td>\n",
       "      <td>0.000</td>\n",
       "      <td>0.00</td>\n",
       "      <td>0.000</td>\n",
       "      <td>0.000</td>\n",
       "      <td>0.00</td>\n",
       "      <td>1645162133</td>\n",
       "      <td>Voeren</td>\n",
       "      <td>2</td>\n",
       "      <td>201</td>\n",
       "      <td>Voeren</td>\n",
       "    </tr>\n",
       "    <tr>\n",
       "      <th>1462</th>\n",
       "      <td>175</td>\n",
       "      <td>1802.0</td>\n",
       "      <td>0.015330</td>\n",
       "      <td>0.021417</td>\n",
       "      <td>0.020952</td>\n",
       "      <td>0.020480</td>\n",
       "      <td>0.020005</td>\n",
       "      <td>0.019528</td>\n",
       "      <td>0.019052</td>\n",
       "      <td>0.018655</td>\n",
       "      <td>...</td>\n",
       "      <td>0.030</td>\n",
       "      <td>0.03</td>\n",
       "      <td>0.030</td>\n",
       "      <td>0.030</td>\n",
       "      <td>0.03</td>\n",
       "      <td>1640831485</td>\n",
       "      <td>Voeren</td>\n",
       "      <td>2</td>\n",
       "      <td>60</td>\n",
       "      <td>Voeren</td>\n",
       "    </tr>\n",
       "    <tr>\n",
       "      <th>1463</th>\n",
       "      <td>176</td>\n",
       "      <td>1803.0</td>\n",
       "      <td>0.015330</td>\n",
       "      <td>0.021417</td>\n",
       "      <td>0.020952</td>\n",
       "      <td>0.020480</td>\n",
       "      <td>0.020005</td>\n",
       "      <td>0.019528</td>\n",
       "      <td>0.019052</td>\n",
       "      <td>0.018655</td>\n",
       "      <td>...</td>\n",
       "      <td>0.030</td>\n",
       "      <td>0.03</td>\n",
       "      <td>0.030</td>\n",
       "      <td>0.030</td>\n",
       "      <td>0.03</td>\n",
       "      <td>1644201328</td>\n",
       "      <td>Voeren</td>\n",
       "      <td>2</td>\n",
       "      <td>60</td>\n",
       "      <td>Voeren</td>\n",
       "    </tr>\n",
       "    <tr>\n",
       "      <th>1464</th>\n",
       "      <td>177</td>\n",
       "      <td>1804.0</td>\n",
       "      <td>0.015330</td>\n",
       "      <td>0.021417</td>\n",
       "      <td>0.020952</td>\n",
       "      <td>0.020480</td>\n",
       "      <td>0.020005</td>\n",
       "      <td>0.019528</td>\n",
       "      <td>0.019052</td>\n",
       "      <td>0.018655</td>\n",
       "      <td>...</td>\n",
       "      <td>0.030</td>\n",
       "      <td>0.03</td>\n",
       "      <td>0.030</td>\n",
       "      <td>0.030</td>\n",
       "      <td>0.03</td>\n",
       "      <td>1642096428</td>\n",
       "      <td>Voeren</td>\n",
       "      <td>2</td>\n",
       "      <td>60</td>\n",
       "      <td>Voeren</td>\n",
       "    </tr>\n",
       "    <tr>\n",
       "      <th>1465</th>\n",
       "      <td>178</td>\n",
       "      <td>1805.0</td>\n",
       "      <td>0.227720</td>\n",
       "      <td>0.009675</td>\n",
       "      <td>0.009687</td>\n",
       "      <td>0.009695</td>\n",
       "      <td>0.009703</td>\n",
       "      <td>0.009709</td>\n",
       "      <td>0.009717</td>\n",
       "      <td>0.009722</td>\n",
       "      <td>...</td>\n",
       "      <td>0.170</td>\n",
       "      <td>0.12</td>\n",
       "      <td>0.085</td>\n",
       "      <td>0.065</td>\n",
       "      <td>0.04</td>\n",
       "      <td>1644200823</td>\n",
       "      <td>Voeren</td>\n",
       "      <td>5</td>\n",
       "      <td>321</td>\n",
       "      <td>Voeren</td>\n",
       "    </tr>\n",
       "  </tbody>\n",
       "</table>\n",
       "<p>412526 rows × 80 columns</p>\n",
       "</div>"
      ],
      "text/plain": [
       "      Unnamed: 0  perceel_id         C     SLR_0     SLR_1     SLR_2  \\\n",
       "0              0         0.0  0.485868  0.009650  0.009664  0.009674   \n",
       "1              1         1.0  0.485868  0.009650  0.009664  0.009674   \n",
       "2              2         2.0  0.485868  0.009650  0.009664  0.009674   \n",
       "3              3         3.0  0.249801  0.009410  0.009447  0.009474   \n",
       "4              4         4.0  0.105506  0.009410  0.009447  0.009474   \n",
       "...          ...         ...       ...       ...       ...       ...   \n",
       "1461         174      1801.0  0.135459  0.009675  0.009687  0.009695   \n",
       "1462         175      1802.0  0.015330  0.021417  0.020952  0.020480   \n",
       "1463         176      1803.0  0.015330  0.021417  0.020952  0.020480   \n",
       "1464         177      1804.0  0.015330  0.021417  0.020952  0.020480   \n",
       "1465         178      1805.0  0.227720  0.009675  0.009687  0.009695   \n",
       "\n",
       "         SLR_3     SLR_4     SLR_5     SLR_6  ...   H_19  H_20   H_21   H_22  \\\n",
       "0     0.009683  0.009691  0.009700  0.009707  ...  0.025  0.03  0.030  0.030   \n",
       "1     0.009683  0.009691  0.009700  0.009707  ...  0.025  0.03  0.030  0.030   \n",
       "2     0.009683  0.009691  0.009700  0.009707  ...  0.025  0.03  0.030  0.030   \n",
       "3     0.009498  0.009519  0.009545  0.009563  ...  0.000  0.00  0.000  0.000   \n",
       "4     0.009498  0.009519  0.009545  0.009563  ...  0.030  0.06  0.060  0.060   \n",
       "...        ...       ...       ...       ...  ...    ...   ...    ...    ...   \n",
       "1461  0.009703  0.009709  0.009717  0.009722  ...  0.000  0.00  0.000  0.000   \n",
       "1462  0.020005  0.019528  0.019052  0.018655  ...  0.030  0.03  0.030  0.030   \n",
       "1463  0.020005  0.019528  0.019052  0.018655  ...  0.030  0.03  0.030  0.030   \n",
       "1464  0.020005  0.019528  0.019052  0.018655  ...  0.030  0.03  0.030  0.030   \n",
       "1465  0.009703  0.009709  0.009717  0.009722  ...  0.170  0.12  0.085  0.065   \n",
       "\n",
       "      H_23      REF_ID               catchm_x  type  GWSCOD  \\\n",
       "0     0.03   434034883  Bekken_Brugse_polders     6     201   \n",
       "1     0.03   434034075  Bekken_Brugse_polders     6     201   \n",
       "2     0.03   435951342  Bekken_Brugse_polders     6     201   \n",
       "3     0.00  1314869958  Bekken_Brugse_polders     2     311   \n",
       "4     0.06   935631583  Bekken_Brugse_polders     5     901   \n",
       "...    ...         ...                    ...   ...     ...   \n",
       "1461  0.00  1645162133                 Voeren     2     201   \n",
       "1462  0.03  1640831485                 Voeren     2      60   \n",
       "1463  0.03  1644201328                 Voeren     2      60   \n",
       "1464  0.03  1642096428                 Voeren     2      60   \n",
       "1465  0.04  1644200823                 Voeren     5     321   \n",
       "\n",
       "                   catchm_y  \n",
       "0     Bekken_Brugse_polders  \n",
       "1     Bekken_Brugse_polders  \n",
       "2     Bekken_Brugse_polders  \n",
       "3     Bekken_Brugse_polders  \n",
       "4     Bekken_Brugse_polders  \n",
       "...                     ...  \n",
       "1461                 Voeren  \n",
       "1462                 Voeren  \n",
       "1463                 Voeren  \n",
       "1464                 Voeren  \n",
       "1465                 Voeren  \n",
       "\n",
       "[412526 rows x 80 columns]"
      ]
     },
     "execution_count": 53,
     "metadata": {},
     "output_type": "execute_result"
    }
   ],
   "source": [
    "cfactor"
   ]
  },
  {
   "cell_type": "code",
   "execution_count": null,
   "metadata": {},
   "outputs": [],
   "source": []
  }
 ],
 "metadata": {
  "kernelspec": {
   "display_name": "Python 3",
   "language": "python",
   "name": "python3"
  },
  "language_info": {
   "codemirror_mode": {
    "name": "ipython",
    "version": 3
   },
   "file_extension": ".py",
   "mimetype": "text/x-python",
   "name": "python",
   "nbconvert_exporter": "python",
   "pygments_lexer": "ipython3",
   "version": "3.7.6"
  },
  "toc": {
   "base_numbering": 1,
   "nav_menu": {},
   "number_sections": true,
   "sideBar": true,
   "skip_h1_title": false,
   "title_cell": "Table of Contents",
   "title_sidebar": "Contents",
   "toc_cell": false,
   "toc_position": {},
   "toc_section_display": true,
   "toc_window_display": false
  }
 },
 "nbformat": 4,
 "nbformat_minor": 4
}
